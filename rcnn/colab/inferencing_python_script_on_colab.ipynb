{
 "cells": [
  {
   "cell_type": "markdown",
   "metadata": {
    "id": "cinOo-cnTYIv"
   },
   "source": [
    "**MODEL INFERENCING SCRIPT ON COLAB**\n",
    "\n",
    "1. Upload the inferencing script into your Google Drive   \n",
    "2. Mount your drive & navigate to your inferencing script folder\n",
    "3. Input your image path, metadata path, model path, confidence threshold, and score labeled"
   ]
  },
  {
   "cell_type": "code",
   "execution_count": null,
   "metadata": {
    "colab": {
     "base_uri": "https://localhost:8080/"
    },
    "id": "195BHtY61yNn",
    "outputId": "f10b7d2b-a9e0-4078-c31e-4b70abccbedf"
   },
   "outputs": [],
   "source": [
    "# Mount drive\n",
    "from google.colab import drive\n",
    "drive.mount('/content/drive', force_remount=True)\n",
    "\n",
    "# Navigate to script location\n",
    "%cd \"dcript_dir\""
   ]
  },
  {
   "cell_type": "code",
   "execution_count": null,
   "metadata": {
    "id": "khbNyXoG3jGm"
   },
   "outputs": [],
   "source": [
    "# Import on-premise libraries\n",
    "import inferencing_rcnn_1 as infer            # your training script name"
   ]
  },
  {
   "cell_type": "code",
   "execution_count": null,
   "metadata": {
    "colab": {
     "base_uri": "https://localhost:8080/",
     "height": 636
    },
    "id": "e9C6iLcG2qbO",
    "outputId": "3da651ce-3542-49bb-a223-f2c282977a00"
   },
   "outputs": [],
   "source": [
    "infer.main(\n",
    "      image_path      = '',\n",
    "      metadata_path   = 'path/metadata.json',\n",
    "      model_path      = 'path/best_model.pth',\n",
    "      conf_thresh     = 0.5,\n",
    "      with_score      = True,\n",
    ")"
   ]
  }
 ],
 "metadata": {
  "accelerator": "GPU",
  "colab": {
   "gpuType": "T4",
   "provenance": []
  },
  "kernelspec": {
   "display_name": "Python 3",
   "name": "python3"
  },
  "language_info": {
   "name": "python"
  }
 },
 "nbformat": 4,
 "nbformat_minor": 0
}
