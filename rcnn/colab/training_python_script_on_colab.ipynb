{
 "cells": [
  {
   "cell_type": "markdown",
   "metadata": {
    "id": "cinOo-cnTYIv"
   },
   "source": [
    "**MODEL TRAINING SCRIPT ON COLAB**\n",
    "\n",
    "1. Upload the training script into your Google Drive   \n",
    "2. Mount your drive & navigate to your training script folder\n",
    "3. Replace your Roboflow dataset API (if needed)\n",
    "4. Adjust the training parameters accordingly"
   ]
  },
  {
   "cell_type": "code",
   "execution_count": null,
   "metadata": {
    "colab": {
     "base_uri": "https://localhost:8080/"
    },
    "executionInfo": {
     "elapsed": 3130,
     "status": "ok",
     "timestamp": 1757553451231,
     "user": {
      "displayName": "Muhammad Hafizi Bin Abdul Malik",
      "userId": "04824450986987465521"
     },
     "user_tz": -480
    },
    "id": "195BHtY61yNn",
    "outputId": "703c7b90-4d9f-40d0-8d91-8ce013d0ebed"
   },
   "outputs": [],
   "source": [
    "# Mount drive\n",
    "from google.colab import drive\n",
    "drive.mount('/content/drive', force_remount=True)\n",
    "\n",
    "# Navigate to script location\n",
    "%cd \"script_dir\""
   ]
  },
  {
   "cell_type": "code",
   "execution_count": null,
   "metadata": {
    "colab": {
     "base_uri": "https://localhost:8080/"
    },
    "executionInfo": {
     "elapsed": 9674,
     "status": "ok",
     "timestamp": 1757553462002,
     "user": {
      "displayName": "Muhammad Hafizi Bin Abdul Malik",
      "userId": "04824450986987465521"
     },
     "user_tz": -480
    },
    "id": "vOy3TVM62sEf",
    "outputId": "5cd35f9b-8c93-4d0e-bed5-d2a957f49c3d"
   },
   "outputs": [],
   "source": [
    "# Install libraries that do not available in Colab\n",
    "!pip install roboflow\n",
    "!pip install pycocotools"
   ]
  },
  {
   "cell_type": "code",
   "execution_count": null,
   "metadata": {
    "executionInfo": {
     "elapsed": 15191,
     "status": "ok",
     "timestamp": 1757553494851,
     "user": {
      "displayName": "Muhammad Hafizi Bin Abdul Malik",
      "userId": "04824450986987465521"
     },
     "user_tz": -480
    },
    "id": "khbNyXoG3jGm"
   },
   "outputs": [],
   "source": [
    "# Import on-premise libraries\n",
    "import os\n",
    "import training_rcnn_1 as rc            # your training script name\n",
    "from roboflow import Roboflow\n",
    "from torchvision import models as mdl\n",
    "\n",
    "# Replace your Roboflow dataset API\n",
    "def roboflow_dataset():\n",
    "  from roboflow import Roboflow\n",
    "  rf = Roboflow(api_key=\"\")\n",
    "  project = rf.workspace(\"\").project(\"\")\n",
    "  version = project.version(1)\n",
    "  dataset = version.download(\"coco-segmentation\")\n",
    "\n",
    "  return dataset"
   ]
  },
  {
   "cell_type": "code",
   "execution_count": null,
   "metadata": {
    "colab": {
     "base_uri": "https://localhost:8080/"
    },
    "executionInfo": {
     "elapsed": 1455748,
     "status": "ok",
     "timestamp": 1757554980048,
     "user": {
      "displayName": "Muhammad Hafizi Bin Abdul Malik",
      "userId": "04824450986987465521"
     },
     "user_tz": -480
    },
    "id": "e9C6iLcG2qbO",
    "outputId": "701acad8-c0b9-4b20-9463-a0b7a9262137"
   },
   "outputs": [],
   "source": [
    "# Adjust your training parameters and run the script\n",
    "rc.main(\n",
    "    project_name        = \"Project\",\n",
    "    dataset_location    = None,\n",
    "    result_path         = 'path', # with \"/results\" folder ready\n",
    "    resume              = False,\n",
    "    model_path          = None,                                 # if want to resume model training\n",
    "    num_workers         = 'default',                                    # 'default':  max workers\n",
    "    num_epochs          = 50,\n",
    "    early_stop          = True,\n",
    "    patience            = 10,                                   # 'default': round(num_epochs * 0.2)\n",
    "    batch_size          = 4,\n",
    "    lr                  = 0.0001,                               # fixed\n",
    "    weight_decay        = 0.0001,                               # overfit increase, underfit decrease\n",
    "    track_segment         = {'save': False, 'limit' : 3},          # to debug 'mask generation' during evaluation phase\n",
    "    model_type          = \"maskrcnn\",                           # \"fasterrcnn: bbox\" or \"maskrcnn: instance segmentation\"\n",
    "    model_version       = '1',                                  # '1: custom' or '1.1: prepackaged' or '2: prepackaged'\n",
    "    is_custom_anchor    = False,\n",
    "    # if is_custom_anchor == True\n",
    "    anchor_sizes        = [(4,), (8,), (16,), (64,), (128,)],   # num of anchors follow num_feature_maps\n",
    "    aspect_ratios       = [[0.33, 0.5, 1.0, 2.0, 3.0]],         # < 1: tall, > 1: wide  (follows num of anchor sizes)\n",
    "    # backbone_name only applicable for model_version == '1: custom'\n",
    "    backbone_name       = \"resnet34\",                           # from torchvision.models import resnet\n",
    "    trainable_layers    = 3,                                    # from 1 to 5\n",
    "    roboflow_data       = roboflow_dataset().location,          # roboflow_dataset().location or None\n",
    ")"
   ]
  }
 ],
 "metadata": {
  "accelerator": "GPU",
  "colab": {
   "gpuType": "T4",
   "provenance": []
  },
  "kernelspec": {
   "display_name": "Python 3",
   "name": "python3"
  },
  "language_info": {
   "name": "python"
  }
 },
 "nbformat": 4,
 "nbformat_minor": 0
}
