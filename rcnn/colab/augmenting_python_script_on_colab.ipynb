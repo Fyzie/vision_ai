{
 "cells": [
  {
   "cell_type": "markdown",
   "metadata": {
    "id": "cinOo-cnTYIv"
   },
   "source": [
    "**AUGMENTATION SCRIPT ON COLAB**\n",
    "\n",
    "1. Upload the augmentation script into your Google Drive   \n",
    "2. Mount your drive & navigate to your augmentation script folder\n",
    "3. Replace your Roboflow dataset API (if needed)\n",
    "4. Configure the augmentation modules as per your need\n",
    "5. Adjust the augmentation parameters accordingly"
   ]
  },
  {
   "cell_type": "code",
   "execution_count": null,
   "metadata": {
    "colab": {
     "background_save": true,
     "base_uri": "https://localhost:8080/"
    },
    "executionInfo": {
     "elapsed": 20627,
     "status": "ok",
     "timestamp": 1756448402757,
     "user": {
      "displayName": "Muhammad Hafizi Bin Abdul Malik",
      "userId": "04824450986987465521"
     },
     "user_tz": -480
    },
    "id": "195BHtY61yNn"
   },
   "outputs": [],
   "source": [
    "# Mount drive\n",
    "from google.colab import drive\n",
    "drive.mount('/content/drive', force_remount=True)\n",
    "\n",
    "# Navigate to script location\n",
    "%cd \"script_dir\""
   ]
  },
  {
   "cell_type": "code",
   "execution_count": null,
   "metadata": {
    "colab": {
     "base_uri": "https://localhost:8080/"
    },
    "executionInfo": {
     "elapsed": 13424,
     "status": "ok",
     "timestamp": 1756448416193,
     "user": {
      "displayName": "Muhammad Hafizi Bin Abdul Malik",
      "userId": "04824450986987465521"
     },
     "user_tz": -480
    },
    "id": "vOy3TVM62sEf",
    "outputId": "0ce3da63-5a3e-4709-8bf0-d6342329fcb9"
   },
   "outputs": [],
   "source": [
    "# Install libraries that do not available in Colab\n",
    "!pip install roboflow"
   ]
  },
  {
   "cell_type": "code",
   "execution_count": null,
   "metadata": {
    "executionInfo": {
     "elapsed": 7,
     "status": "ok",
     "timestamp": 1756448416205,
     "user": {
      "displayName": "Muhammad Hafizi Bin Abdul Malik",
      "userId": "04824450986987465521"
     },
     "user_tz": -480
    },
    "id": "A3JOCrIq4c2-"
   },
   "outputs": [],
   "source": [
    "# Configure the augmentation modules as per your need\n",
    "# Mainly augmentation done on train dataset\n",
    "def get_train_transforms():\n",
    "    transform = A.ReplayCompose(\n",
    "        [\n",
    "            # A.Resize(1024, 1024, p=1.0),\n",
    "            A.LongestMaxSize(max_size=1024, interpolation=cv2.INTER_LINEAR, p=1.0),\n",
    "            ########################################## random scale implementation of object-of-interests ##################################################\n",
    "            # Additional: Random scale and padded to adapt various scales of object of interest\n",
    "            A.RandomScale(scale_limit=(-0.5, -0.8),interpolation=cv2.INTER_LINEAR,mask_interpolation=cv2.INTER_NEAREST,area_for_downscale=\"image\", p=0.4),\n",
    "            # A.PadIfNeeded(min_height=1024, min_width=1024, border_mode=cv2.BORDER_CONSTANT, fill=0, fill_mask=0, p=1.0),\n",
    "            ################################################################################################################################################\n",
    "            A.HorizontalFlip(p=0.5),\n",
    "            A.VerticalFlip(p=0.3),\n",
    "            A.Rotate(limit=15, border_mode=cv2.BORDER_CONSTANT, p=0.4),\n",
    "            A.ToGray(p=0.2),\n",
    "            A.HueSaturationValue(hue_shift_limit=15, sat_shift_limit=25, p=0.3),\n",
    "            A.RandomBrightnessContrast(p=0.4),\n",
    "            A.MotionBlur(blur_limit=(3, 5), p=0.3),\n",
    "            A.Emboss(alpha=(0.2, 0.5), strength=(0.2, 0.7), p=0.5),\n",
    "            A.CLAHE(clip_limit=(1, 4), tile_grid_size=(8, 8), p=0.8),\n",
    "            A.ElasticTransform(alpha=100, sigma=50, p=0.5),\n",
    "            A.Downscale(scale_range=(0.5, 0.75), interpolation_pair={'downscale': cv2.INTER_NEAREST, 'upscale': cv2.INTER_LINEAR}, p=0.5),\n",
    "        ],\n",
    "        bbox_params=A.BboxParams(\n",
    "            format=\"coco\",\n",
    "            label_fields=[\"category_ids\"]\n",
    "        )\n",
    "    )\n",
    "    return transform"
   ]
  },
  {
   "cell_type": "code",
   "execution_count": null,
   "metadata": {
    "executionInfo": {
     "elapsed": 7,
     "status": "ok",
     "timestamp": 1756448416217,
     "user": {
      "displayName": "Muhammad Hafizi Bin Abdul Malik",
      "userId": "04824450986987465521"
     },
     "user_tz": -480
    },
    "id": "2cSPT86w4e1J"
   },
   "outputs": [],
   "source": [
    "# No augmentation for valid and test dataset (just standard resize)\n",
    "def get_valid_transforms():\n",
    "    transform = A.ReplayCompose(\n",
    "        [\n",
    "            # A.Resize(1024, 1024, p=1.0),\n",
    "            A.LongestMaxSize(max_size=1024, interpolation=cv2.INTER_LINEAR, p=1.0),\n",
    "        ],\n",
    "        bbox_params=A.BboxParams(\n",
    "            format=\"coco\",\n",
    "            label_fields=[\"category_ids\"]\n",
    "        )\n",
    "    )\n",
    "    return transform"
   ]
  },
  {
   "cell_type": "code",
   "execution_count": null,
   "metadata": {
    "colab": {
     "base_uri": "https://localhost:8080/",
     "height": 383
    },
    "executionInfo": {
     "elapsed": 54,
     "status": "error",
     "timestamp": 1756448416277,
     "user": {
      "displayName": "Muhammad Hafizi Bin Abdul Malik",
      "userId": "04824450986987465521"
     },
     "user_tz": -480
    },
    "id": "khbNyXoG3jGm",
    "outputId": "8d7f1e6e-97df-4855-e9e2-82a051d176fa"
   },
   "outputs": [],
   "source": [
    "# Import on-premise libraries\n",
    "import os\n",
    "import cv2\n",
    "import augmenting_coco_1 as ag            # your augmentation script name\n",
    "import albumentations as A\n",
    "\n",
    "# Replace your Roboflow dataset API\n",
    "def roboflow_dataset():\n",
    "  from roboflow import Roboflow\n",
    "  rf = Roboflow(api_key=\"\")\n",
    "  project = rf.workspace(\"\").project(\"\")\n",
    "  version = project.version(8)\n",
    "  dataset = version.download(\"coco-segmentation\")\n",
    "\n",
    "\n",
    "  return dataset"
   ]
  },
  {
   "cell_type": "code",
   "execution_count": null,
   "metadata": {
    "executionInfo": {
     "elapsed": 34308,
     "status": "aborted",
     "timestamp": 1756448416253,
     "user": {
      "displayName": "Muhammad Hafizi Bin Abdul Malik",
      "userId": "04824450986987465521"
     },
     "user_tz": -480
    },
    "id": "e9C6iLcG2qbO"
   },
   "outputs": [],
   "source": [
    "PROJECT_NAME = 'Project'\n",
    "\n",
    "# Adjust your augmentation parameters and run the script\n",
    "ag.main(\n",
    "    data_type       = 'roboflow',                                                               # 'local' (local drive) and 'roboflow'\n",
    "    local_data      = None,\n",
    "    roboflow_data   = roboflow_dataset().location,                                              # roboflow_dataset().location or None\n",
    "    result_path     = os.path.join('path', PROJECT_NAME),\n",
    "    data_dist       = {'train': 3, 'valid': 1, 'test': 1},\n",
    "    train_transform = get_train_transforms(),\n",
    "    valid_transform = get_valid_transforms(),\n",
    ")"
   ]
  }
 ],
 "metadata": {
  "accelerator": "GPU",
  "colab": {
   "gpuType": "T4",
   "name": "",
   "version": ""
  },
  "kernelspec": {
   "display_name": "Python 3",
   "name": "python3"
  },
  "language_info": {
   "name": "python"
  }
 },
 "nbformat": 4,
 "nbformat_minor": 0
}
